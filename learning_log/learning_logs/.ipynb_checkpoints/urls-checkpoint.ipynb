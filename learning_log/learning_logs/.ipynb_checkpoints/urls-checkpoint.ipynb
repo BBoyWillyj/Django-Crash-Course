{
 "cells": [
  {
   "cell_type": "code",
   "execution_count": null,
   "id": "ce69bbcd",
   "metadata": {},
   "outputs": [],
   "source": [
    "\"\"\"Defines URL patterns for learning_logs.\"\"\"\n",
    "from django.urls import path\n",
    "from . import views\n",
    "app_name = 'learning_logs'\n",
    "urlpatterns = [\n",
    "    # Home page\n",
    "    path('', views.index, name='index'),\n",
    "]"
   ]
  }
 ],
 "metadata": {
  "kernelspec": {
   "display_name": "Python 3 (ipykernel)",
   "language": "python",
   "name": "python3"
  },
  "language_info": {
   "codemirror_mode": {
    "name": "ipython",
    "version": 3
   },
   "file_extension": ".py",
   "mimetype": "text/x-python",
   "name": "python",
   "nbconvert_exporter": "python",
   "pygments_lexer": "ipython3",
   "version": "3.10.9"
  }
 },
 "nbformat": 4,
 "nbformat_minor": 5
}
