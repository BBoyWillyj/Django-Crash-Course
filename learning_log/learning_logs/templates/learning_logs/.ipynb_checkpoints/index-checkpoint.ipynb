{
 "cells": [
  {
   "cell_type": "code",
   "execution_count": null,
   "id": "7fedfff7",
   "metadata": {},
   "outputs": [],
   "source": [
    "<p>Learning Log</p>\n",
    "\n",
    "<p>Learning Log helps you keep track of your learning, for any topic you're\n",
    "learning about.</p>"
   ]
  }
 ],
 "metadata": {
  "kernelspec": {
   "display_name": "Python 3 (ipykernel)",
   "language": "python",
   "name": "python3"
  },
  "language_info": {
   "codemirror_mode": {
    "name": "ipython",
    "version": 3
   },
   "file_extension": ".py",
   "mimetype": "text/x-python",
   "name": "python",
   "nbconvert_exporter": "python",
   "pygments_lexer": "ipython3",
   "version": "3.10.9"
  }
 },
 "nbformat": 4,
 "nbformat_minor": 5
}
